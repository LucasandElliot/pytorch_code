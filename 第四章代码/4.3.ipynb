{
 "cells": [
  {
   "cell_type": "code",
   "execution_count": 1,
   "metadata": {},
   "outputs": [
    {
     "name": "stdout",
     "output_type": "stream",
     "text": [
      "(150, 4)\n",
      "(150,)\n"
     ]
    }
   ],
   "source": [
    "from visdom import Visdom\n",
    "from sklearn.datasets import load_iris\n",
    "iris_x,iris_y=load_iris(return_X_y=True)\n",
    "print(iris_x.shape)\n",
    "print(iris_y.shape)"
   ]
  },
  {
   "cell_type": "code",
   "execution_count": 14,
   "metadata": {},
   "outputs": [],
   "source": [
    "import torch\n",
    "import torch.nn as nn\n",
    "import numpy as np\n",
    "# 导入相关的库\n",
    "import torch \n",
    "import torch.nn as nn\n",
    "import torchvision\n",
    "import torchvision.utils as vutils\n",
    "from torch.optim import SGD\n",
    "import torch.utils.data as Data\n",
    "from sklearn.metrics import accuracy_score\n",
    "import matplotlib.pyplot as plt\n",
    "import time"
   ]
  },
  {
   "cell_type": "code",
   "execution_count": 7,
   "metadata": {},
   "outputs": [
    {
     "name": "stderr",
     "output_type": "stream",
     "text": [
      "Setting up a new session...\n"
     ]
    },
    {
     "data": {
      "text/plain": [
       "'3D散点图'"
      ]
     },
     "execution_count": 7,
     "metadata": {},
     "output_type": "execute_result"
    }
   ],
   "source": [
    "# 2D散点图\n",
    "vis=Visdom()\n",
    "vis.scatter(iris_x[:,0:2],Y=iris_y+1,win=\"windows1\",env=\"main\")\n",
    "# 3D散点图\n",
    "vis.scatter(iris_x[:,0:3],Y=iris_y+1,win=\"3D散点图\",env=\"mian\",\n",
    "        opts=dict(markersize=4,# 点的大小\n",
    "        xlabel=\"特征1\",\n",
    "        ylabel=\"特征2\")\n",
    ")\n"
   ]
  },
  {
   "cell_type": "code",
   "execution_count": 9,
   "metadata": {},
   "outputs": [],
   "source": [
    "# 添加折线图\n",
    "x=torch.linspace(-6,6,100).view((-1,1))\n",
    "sigmoid=torch.nn.Sigmoid()\n",
    "sigmoidy=sigmoid(x)\n",
    "tanh=torch.nn.Tanh()\n",
    "tanhy=tanh(x)\n",
    "relu=torch.nn.ReLU()\n",
    "reluy=relu(x)\n",
    "# 连接三个张量\n",
    "ploty=torch.cat((sigmoidy,tanhy,reluy),dim=1)\n",
    "plotx=torch.cat((x,x,x),dim=1)\n",
    "vis.line(Y=ploty,X=plotx,win=\"line plot\",env=\"main\")\n",
    "# 设置线条的其他属性\n",
    "opts=dict(dash=np.array([\"solid\",\"dash\",\"dashdot\"]),\n",
    "legend=[\"Sigmoid\",\"Tanh\",\"ReLU\"])"
   ]
  },
  {
   "cell_type": "code",
   "execution_count": 12,
   "metadata": {},
   "outputs": [
    {
     "data": {
      "text/plain": [
       "'stem plot'"
      ]
     },
     "execution_count": 12,
     "metadata": {},
     "output_type": "execute_result"
    }
   ],
   "source": [
    "# 添加茎叶图\n",
    "x=torch.linspace(-6,6,100).view((-1,1))\n",
    "y1=torch.sin(x)\n",
    "y2=torch.cos(x)\n",
    "# 连接2个变量\n",
    "plotx=torch.cat((y1,y2),dim=1)\n",
    "ploty=torch.cat((x,x),dim=1)\n",
    "vis.stem(X=plotx,Y=ploty,win=\"stem plot\",env=\"main\",\n",
    "    # 设置图例\n",
    "    opts=dict(legend=[\"sin\",\"cos\"],\n",
    "    title=\"茎叶图\"))\n"
   ]
  },
  {
   "cell_type": "code",
   "execution_count": 13,
   "metadata": {},
   "outputs": [
    {
     "data": {
      "text/plain": [
       "'heatmap'"
      ]
     },
     "execution_count": 13,
     "metadata": {},
     "output_type": "execute_result"
    }
   ],
   "source": [
    "# 添加热力图，计算莺尾花数据的相关系数\n",
    "iris_corr=torch.from_numpy(np.corrcoef(iris_x,rowvar=False))\n",
    "vis.heatmap(iris_corr,win=\"heatmap\",env=\"main\",\n",
    "# 设置每个特征的名称\n",
    "opts=dict(rewnames=[\"x1\",\"x2\",\"x3\",\"x4\"],\n",
    "columnnames=[\"x1\",\"x2\",\"x3\",\"x4\"],\n",
    "title=\"热力图\"))\n",
    "\n"
   ]
  },
  {
   "cell_type": "code",
   "execution_count": 15,
   "metadata": {},
   "outputs": [],
   "source": [
    "# 使用手写字体数据，准备训练数据集\n",
    "train_data=torchvision.datasets.MNIST(\n",
    "    root=\"./data/MNIST\" ,# 数据的路径\n",
    "    train=True, # 只使用数据的训练数据集\n",
    "    # 将数据转化为torch的使用张量，取值范围为【0,1】\n",
    "    transform=torchvision.transforms.ToTensor(),\n",
    "    download=False # 数据已经下载过，使用在这里不再下载\n",
    ")\n",
    "# 定义一个数据加载器\n",
    "train_loader=Data.DataLoader(\n",
    "    dataset=train_data,# 使用的数据集\n",
    "    batch_size=128,# 批处理样本大小\n",
    "    shuffle=True, # 每次迭代之前打乱数据\n",
    "    num_workers=2,# 使用两个进程\n",
    ")\n"
   ]
  },
  {
   "cell_type": "code",
   "execution_count": 16,
   "metadata": {},
   "outputs": [
    {
     "name": "stdout",
     "output_type": "stream",
     "text": [
      "b_x.shape: torch.Size([128, 1, 28, 28])\n",
      "b_y.shape: torch.Size([128])\n"
     ]
    }
   ],
   "source": [
    "# 创建新的可视化图像环境，可视化图像，获得一个batcg的数据\n",
    " # 获取一个batch的数据\n",
    "for step,(b_x,b_y) in enumerate(train_loader):\n",
    "    if step>0:\n",
    "        break\n",
    "# 输出训练图像的尺寸和标签的尺寸\n",
    "print(\"b_x.shape:\",b_x.shape)\n",
    "print(\"b_y.shape:\",b_y.shape)\n",
    "    "
   ]
  },
  {
   "cell_type": "code",
   "execution_count": 18,
   "metadata": {},
   "outputs": [
    {
     "data": {
      "text/plain": [
       "'my batch image'"
      ]
     },
     "execution_count": 18,
     "metadata": {},
     "output_type": "execute_result"
    }
   ],
   "source": [
    "# 可视化其他的一张图片\n",
    "vis.image(b_x[0,:,:,:],win=\"one image\",env=\"MyimagePlot\",\n",
    "opts=dict(title=\"一张图像\"))\n",
    "# 它形成一个大小为（B/nrow，nrow）的图像网格\n",
    "vis.images(b_x,win=\"my batch image\",env=\"MyimagePlot\",\n",
    "nrow=16,opts=dict(title=\"一个批次的图像\"))"
   ]
  },
  {
   "cell_type": "code",
   "execution_count": 19,
   "metadata": {},
   "outputs": [
    {
     "data": {
      "text/plain": [
       "'text plot'"
      ]
     },
     "execution_count": 19,
     "metadata": {},
     "output_type": "execute_result"
    }
   ],
   "source": [
    "# 可视化一段文本\n",
    "texts=\"\"\"A flexible tool for creating, organizing,\n",
    "and sharing visualizations of live,rich data. Supports Torch and Numpy \"\"\"\n",
    "vis.text(texts,win=\"text plot\",env=\"MyimagePlot\",\n",
    "opts=dict(title=\"可视化文本\"))"
   ]
  }
 ],
 "metadata": {
  "kernelspec": {
   "display_name": "Python 3.8.8 ('base')",
   "language": "python",
   "name": "python3"
  },
  "language_info": {
   "codemirror_mode": {
    "name": "ipython",
    "version": 3
   },
   "file_extension": ".py",
   "mimetype": "text/x-python",
   "name": "python",
   "nbconvert_exporter": "python",
   "pygments_lexer": "ipython3",
   "version": "3.8.8"
  },
  "orig_nbformat": 4,
  "vscode": {
   "interpreter": {
    "hash": "a04f5d07b0747026a8fbcdf50b9443318e69b1b8bd6247d88bfadb4789282972"
   }
  }
 },
 "nbformat": 4,
 "nbformat_minor": 2
}
