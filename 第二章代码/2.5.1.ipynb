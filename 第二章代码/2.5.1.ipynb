{
 "cells": [
  {
   "cell_type": "code",
   "execution_count": 7,
   "metadata": {},
   "outputs": [
    {
     "name": "stdout",
     "output_type": "stream",
     "text": [
      "boston_X,dtype: float64\n",
      "boston_y,dtype: float64\n",
      "train_xt.dtype: torch.float32\n",
      "train_yt: torch.float32\n"
     ]
    }
   ],
   "source": [
    "import torch\n",
    "import torch.utils.data as Data\n",
    "from sklearn.datasets import load_boston,load_iris\n",
    "import numpy as np\n",
    "# 读取波士顿回归数据\n",
    "boston_X,boston_y=load_boston(return_X_y=True)\n",
    "print(\"boston_X,dtype:\",boston_X.dtype)\n",
    "print(\"boston_y,dtype:\",boston_y.dtype)\n",
    "# 训练集x转化为张量，训练集y转化为张量\n",
    "train_xt=torch.from_numpy(boston_X.astype(np.float32))\n",
    "train_yt=torch.from_numpy(boston_y.astype(np.float32))\n",
    "print(\"train_xt.dtype:\",train_xt.dtype)\n",
    "print(\"train_yt:\",train_yt.dtype)"
   ]
  },
  {
   "cell_type": "code",
   "execution_count": null,
   "metadata": {},
   "outputs": [],
   "source": [
    "# 将训练集转化为张量以后，使用TensorDataset将X和Y整理到一起\n",
    "train_data=Data.TensorDataset(train_xt,train_yt)\n",
    "# 定义一个数据加载器，将训练数据集进行批量处理\n",
    "trian_loader=Data.DataLoader(\n",
    "    dataset=train_data,# 使用数据集\n",
    "    batch_size=64, # 批处理样本大小\n",
    "    shuffle=True, # 每次迭代前打乱数据\n",
    "    num_workers=1, # 使用两个进程\n",
    ")\n",
    "# 官方文档：https://pytorch.org/docs/stable/data.html?highlight=data%20dataloader#module-torch.utils.data"
   ]
  }
 ],
 "metadata": {
  "interpreter": {
   "hash": "9cc273a5df71486cc71a39a261bf6d82d026507ff1b51fa9f8def4a2173a39cc"
  },
  "kernelspec": {
   "display_name": "Python 3.8.8 ('base')",
   "language": "python",
   "name": "python3"
  },
  "language_info": {
   "codemirror_mode": {
    "name": "ipython",
    "version": 3
   },
   "file_extension": ".py",
   "mimetype": "text/x-python",
   "name": "python",
   "nbconvert_exporter": "python",
   "pygments_lexer": "ipython3",
   "version": "3.8.8"
  },
  "orig_nbformat": 4
 },
 "nbformat": 4,
 "nbformat_minor": 2
}
