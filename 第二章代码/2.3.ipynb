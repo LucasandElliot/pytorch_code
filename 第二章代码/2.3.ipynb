{
 "cells": [
  {
   "cell_type": "code",
   "execution_count": 1,
   "id": "4d16a3ca",
   "metadata": {
    "ExecuteTime": {
     "end_time": "2022-05-01T13:25:26.670495Z",
     "start_time": "2022-05-01T13:25:25.087803Z"
    }
   },
   "outputs": [
    {
     "name": "stdout",
     "output_type": "stream",
     "text": [
      "X.requires_grad: True\n",
      "y.requires_grad: True\n",
      "x: tensor([[1., 2.],\n",
      "        [3., 4.]], requires_grad=True)\n",
      "y: tensor(54., grad_fn=<SumBackward0>)\n",
      "None\n",
      "tensor([[ 4.,  6.],\n",
      "        [ 8., 10.]])\n"
     ]
    }
   ],
   "source": [
    "\n",
    "import torch\n",
    "# 实现任意标量值函数自动求导的类和函数\n",
    "# 针对一个张量只需要设置参数requires_grad,即可输出传播过程中的梯度信息\n",
    "x=torch.tensor([[1.0,2.0],[3.0,4.0]],requires_grad=True)\n",
    "# 默认require_grad=False\n",
    "y=torch.sum(x**2+2*x+1)\n",
    "# y 的导数是2x+2\n",
    "print(\"X.requires_grad:\",x.requires_grad)\n",
    "print(\"y.requires_grad:\",y.requires_grad)\n",
    "print(\"x:\",x)\n",
    "print(\"y:\",y)\n",
    "# 计算y在x的梯度\n",
    "print(y.backward())\n",
    "print(x.grad)"
   ]
  },
  {
   "cell_type": "code",
   "execution_count": null,
   "id": "f5014939",
   "metadata": {},
   "outputs": [],
   "source": []
  }
 ],
 "metadata": {
  "kernelspec": {
   "display_name": "Python 3",
   "language": "python",
   "name": "python3"
  },
  "language_info": {
   "codemirror_mode": {
    "name": "ipython",
    "version": 3
   },
   "file_extension": ".py",
   "mimetype": "text/x-python",
   "name": "python",
   "nbconvert_exporter": "python",
   "pygments_lexer": "ipython3",
   "version": "3.8.8"
  }
 },
 "nbformat": 4,
 "nbformat_minor": 5
}
