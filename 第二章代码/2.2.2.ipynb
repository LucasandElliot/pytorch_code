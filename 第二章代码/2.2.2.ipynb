{
 "cells": [
  {
   "cell_type": "code",
   "execution_count": 1,
   "id": "6dc86ef0",
   "metadata": {
    "ExecuteTime": {
     "end_time": "2022-04-09T09:50:18.328012Z",
     "start_time": "2022-04-09T09:50:17.773886Z"
    }
   },
   "outputs": [
    {
     "data": {
      "text/plain": [
       "torch.float32"
      ]
     },
     "execution_count": 1,
     "metadata": {},
     "output_type": "execute_result"
    }
   ],
   "source": [
    "import torch\n",
    "torch.tensor([1.2,3.4]).dtype"
   ]
  },
  {
   "cell_type": "code",
   "execution_count": 2,
   "id": "0734467e",
   "metadata": {
    "ExecuteTime": {
     "end_time": "2022-04-09T09:50:18.344018Z",
     "start_time": "2022-04-09T09:50:18.329012Z"
    },
    "scrolled": false
   },
   "outputs": [
    {
     "data": {
      "text/plain": [
       "torch.float64"
      ]
     },
     "execution_count": 2,
     "metadata": {},
     "output_type": "execute_result"
    }
   ],
   "source": [
    "torch.set_default_tensor_type(torch.DoubleTensor)\n",
    "# torch.set_default_tensor_type(torch.ByteTensor)\n",
    "torch.tensor([1.2,3.4]).dtype\n",
    "# 转化成64位dtype"
   ]
  },
  {
   "cell_type": "code",
   "execution_count": 3,
   "id": "0074dcec",
   "metadata": {
    "ExecuteTime": {
     "end_time": "2022-04-09T09:50:18.358963Z",
     "start_time": "2022-04-09T09:50:18.345018Z"
    },
    "scrolled": true
   },
   "outputs": [
    {
     "name": "stdout",
     "output_type": "stream",
     "text": [
      "a.dtype: torch.float64\n",
      "a.long()方法: torch.int64\n",
      "a.long()方法: torch.int32\n",
      "a.long()方法: torch.float32\n"
     ]
    }
   ],
   "source": [
    "a=torch.tensor([1.2,3.4])\n",
    "print(\"a.dtype:\",a.dtype)\n",
    "print(\"a.long()方法:\",a.long().dtype)\n",
    "print(\"a.long()方法:\",a.int().dtype)\n",
    "print(\"a.long()方法:\",a.float().dtype)\n",
    "# print(\"a.long()方法:\",a.uint8().dtype)\n",
    "# 这个方法不适用于转化为八位无符号整形以及八位you符号整形"
   ]
  },
  {
   "cell_type": "code",
   "execution_count": 4,
   "id": "0affd81b",
   "metadata": {
    "ExecuteTime": {
     "end_time": "2022-04-09T09:50:18.373965Z",
     "start_time": "2022-04-09T09:50:18.359962Z"
    }
   },
   "outputs": [
    {
     "data": {
      "text/plain": [
       "torch.float32"
      ]
     },
     "execution_count": 4,
     "metadata": {},
     "output_type": "execute_result"
    }
   ],
   "source": [
    "torch.set_default_tensor_type(torch.FloatTensor)\n",
    "# 修改张量数据类型\n",
    "torch.tensor([1.2,3.4]).dtype"
   ]
  },
  {
   "cell_type": "code",
   "execution_count": 5,
   "id": "58f3fe6e",
   "metadata": {
    "ExecuteTime": {
     "end_time": "2022-04-09T09:50:18.389433Z",
     "start_time": "2022-04-09T09:50:18.374966Z"
    }
   },
   "outputs": [
    {
     "data": {
      "text/plain": [
       "torch.float32"
      ]
     },
     "execution_count": 5,
     "metadata": {},
     "output_type": "execute_result"
    }
   ],
   "source": [
    "torch.get_default_dtype()"
   ]
  },
  {
   "cell_type": "code",
   "execution_count": 6,
   "id": "dc420aae",
   "metadata": {
    "ExecuteTime": {
     "end_time": "2022-04-09T09:50:18.404598Z",
     "start_time": "2022-04-09T09:50:18.390434Z"
    }
   },
   "outputs": [
    {
     "data": {
      "text/plain": [
       "torch.Size([2, 2])"
      ]
     },
     "execution_count": 6,
     "metadata": {},
     "output_type": "execute_result"
    }
   ],
   "source": [
    "A=torch.tensor([[1.0,1.0],[2,2]])\n",
    "\n",
    "A\n",
    "# 用函数构造张量\n",
    "A.size()"
   ]
  },
  {
   "cell_type": "code",
   "execution_count": 7,
   "id": "7b0f4ee0",
   "metadata": {
    "ExecuteTime": {
     "end_time": "2022-04-09T09:50:18.419601Z",
     "start_time": "2022-04-09T09:50:18.405598Z"
    }
   },
   "outputs": [
    {
     "data": {
      "text/plain": [
       "torch.Size([2, 2])"
      ]
     },
     "execution_count": 7,
     "metadata": {},
     "output_type": "execute_result"
    }
   ],
   "source": [
    "A.shape\n",
    "# 获取张量维度"
   ]
  },
  {
   "cell_type": "code",
   "execution_count": 8,
   "id": "9a360f0e",
   "metadata": {
    "ExecuteTime": {
     "end_time": "2022-04-09T09:50:18.434605Z",
     "start_time": "2022-04-09T09:50:18.421602Z"
    }
   },
   "outputs": [
    {
     "data": {
      "text/plain": [
       "torch.Size([2, 2])"
      ]
     },
     "execution_count": 8,
     "metadata": {},
     "output_type": "execute_result"
    }
   ],
   "source": [
    "A.size()\n",
    "# 获取张量形状大小"
   ]
  },
  {
   "cell_type": "code",
   "execution_count": 9,
   "id": "22356199",
   "metadata": {
    "ExecuteTime": {
     "end_time": "2022-04-09T09:50:18.450609Z",
     "start_time": "2022-04-09T09:50:18.435605Z"
    }
   },
   "outputs": [
    {
     "data": {
      "text/plain": [
       "4"
      ]
     },
     "execution_count": 9,
     "metadata": {},
     "output_type": "execute_result"
    }
   ],
   "source": [
    "A.numel()\n",
    "# 获取张量元素大小"
   ]
  },
  {
   "cell_type": "code",
   "execution_count": 10,
   "id": "db2141dd",
   "metadata": {
    "ExecuteTime": {
     "end_time": "2022-04-09T09:50:18.465612Z",
     "start_time": "2022-04-09T09:50:18.451609Z"
    }
   },
   "outputs": [
    {
     "data": {
      "text/plain": [
       "tensor([1., 2., 3.], requires_grad=True)"
      ]
     },
     "execution_count": 10,
     "metadata": {},
     "output_type": "execute_result"
    }
   ],
   "source": [
    "B=torch.tensor((1,2,3),dtype=torch.float32,requires_grad=True)\n",
    "B"
   ]
  },
  {
   "cell_type": "code",
   "execution_count": 11,
   "id": "93e047df",
   "metadata": {
    "ExecuteTime": {
     "end_time": "2022-04-09T09:50:18.481616Z",
     "start_time": "2022-04-09T09:50:18.466613Z"
    }
   },
   "outputs": [
    {
     "data": {
      "text/plain": [
       "tensor([2., 4., 6.])"
      ]
     },
     "execution_count": 11,
     "metadata": {},
     "output_type": "execute_result"
    }
   ],
   "source": [
    "y=B.pow(2).sum()\n",
    "y.backward()\n",
    "B.grad\n",
    "# 计算b**2的梯度，此外计算梯度必须是float型的数据。+"
   ]
  },
  {
   "cell_type": "code",
   "execution_count": 12,
   "id": "f64ff0bd",
   "metadata": {
    "ExecuteTime": {
     "end_time": "2022-04-09T09:50:18.497619Z",
     "start_time": "2022-04-09T09:50:18.482616Z"
    }
   },
   "outputs": [
    {
     "data": {
      "text/plain": [
       "tensor([1., 2., 3., 4.])"
      ]
     },
     "execution_count": 12,
     "metadata": {},
     "output_type": "execute_result"
    }
   ],
   "source": [
    "C=torch.Tensor([1,2,3,4])\n",
    "C\n",
    "# 根据已有数据创建张量"
   ]
  },
  {
   "cell_type": "code",
   "execution_count": 13,
   "id": "44fb2d7f",
   "metadata": {
    "ExecuteTime": {
     "end_time": "2022-04-09T09:50:18.513622Z",
     "start_time": "2022-04-09T09:50:18.498620Z"
    }
   },
   "outputs": [
    {
     "data": {
      "text/plain": [
       "tensor([[0.0000e+00, 0.0000e+00, 1.8754e+28],\n",
       "        [2.0110e+20, 2.6194e+20, 1.0358e-11]])"
      ]
     },
     "execution_count": 13,
     "metadata": {},
     "output_type": "execute_result"
    }
   ],
   "source": [
    "D=torch.Tensor(2,3)\n",
    "D\n",
    "# 根据形状参数生成的张量，而且第一个二位第一个括号里面的元素个数，第二个为第二个括号里面的元素"
   ]
  },
  {
   "cell_type": "code",
   "execution_count": 14,
   "id": "d6136a19",
   "metadata": {
    "ExecuteTime": {
     "end_time": "2022-04-09T09:50:18.529626Z",
     "start_time": "2022-04-09T09:50:18.514623Z"
    }
   },
   "outputs": [
    {
     "data": {
      "text/plain": [
       "tensor([[1., 1., 1.],\n",
       "        [1., 1., 1.]])"
      ]
     },
     "execution_count": 14,
     "metadata": {},
     "output_type": "execute_result"
    }
   ],
   "source": [
    "torch.ones_like(D)"
   ]
  },
  {
   "cell_type": "code",
   "execution_count": 15,
   "id": "35aeb3d0",
   "metadata": {
    "ExecuteTime": {
     "end_time": "2022-04-09T09:50:18.544630Z",
     "start_time": "2022-04-09T09:50:18.530626Z"
    }
   },
   "outputs": [
    {
     "data": {
      "text/plain": [
       "tensor([[0., 0., 0.],\n",
       "        [0., 0., 0.]])"
      ]
     },
     "execution_count": 15,
     "metadata": {},
     "output_type": "execute_result"
    }
   ],
   "source": [
    "torch.zeros_like(D)\n",
    "# torch.***_like()里面只能放置ones和zeros"
   ]
  },
  {
   "cell_type": "code",
   "execution_count": 16,
   "id": "dd71eec4",
   "metadata": {
    "ExecuteTime": {
     "end_time": "2022-04-09T09:50:18.559633Z",
     "start_time": "2022-04-09T09:50:18.545630Z"
    }
   },
   "outputs": [
    {
     "data": {
      "text/plain": [
       "tensor([[0.9552, 0.3820, 0.7963],\n",
       "        [0.1441, 0.6163, 0.4598]])"
      ]
     },
     "execution_count": 16,
     "metadata": {},
     "output_type": "execute_result"
    }
   ],
   "source": [
    "torch.rand_like(D)\n",
    "# 生成随机张量"
   ]
  },
  {
   "cell_type": "code",
   "execution_count": 17,
   "id": "e0a5143b",
   "metadata": {
    "ExecuteTime": {
     "end_time": "2022-04-09T09:50:18.575641Z",
     "start_time": "2022-04-09T09:50:18.560634Z"
    },
    "scrolled": true
   },
   "outputs": [
    {
     "name": "stdout",
     "output_type": "stream",
     "text": [
      "D.dtype: torch.float32\n",
      "E.dtype: torch.float32\n"
     ]
    }
   ],
   "source": [
    "E=[[1,2],[3,4]]\n",
    "E=D.new_tensor(E)\n",
    "print(\"D.dtype:\",D.dtype)\n",
    "print(\"E.dtype:\",E.dtype)"
   ]
  },
  {
   "cell_type": "code",
   "execution_count": 18,
   "id": "b7835656",
   "metadata": {
    "ExecuteTime": {
     "end_time": "2022-04-09T09:50:18.590393Z",
     "start_time": "2022-04-09T09:50:18.576641Z"
    }
   },
   "outputs": [
    {
     "data": {
      "text/plain": [
       "torch.Size([2, 3])"
      ]
     },
     "execution_count": 18,
     "metadata": {},
     "output_type": "execute_result"
    }
   ],
   "source": [
    "D.new_full((3,3),fill_value=1)\n",
    "D.shape"
   ]
  },
  {
   "cell_type": "code",
   "execution_count": 19,
   "id": "d0223c92",
   "metadata": {
    "ExecuteTime": {
     "end_time": "2022-04-09T09:50:18.606400Z",
     "start_time": "2022-04-09T09:50:18.591393Z"
    }
   },
   "outputs": [
    {
     "data": {
      "text/plain": [
       "tensor([[0., 0., 0.],\n",
       "        [0., 0., 0.],\n",
       "        [0., 0., 0.]])"
      ]
     },
     "execution_count": 19,
     "metadata": {},
     "output_type": "execute_result"
    }
   ],
   "source": [
    "D.new_zeros((3,3))"
   ]
  },
  {
   "cell_type": "code",
   "execution_count": 20,
   "id": "3058aef1",
   "metadata": {
    "ExecuteTime": {
     "end_time": "2022-04-09T09:50:18.622404Z",
     "start_time": "2022-04-09T09:50:18.607400Z"
    }
   },
   "outputs": [
    {
     "data": {
      "text/plain": [
       "tensor([[0., 0., 0.],\n",
       "        [0., 0., 0.],\n",
       "        [0., 0., 0.]])"
      ]
     },
     "execution_count": 20,
     "metadata": {},
     "output_type": "execute_result"
    }
   ],
   "source": [
    "D.new_empty((3,3))\n",
    "# 空的和0没有什么区别吗？/"
   ]
  },
  {
   "cell_type": "code",
   "execution_count": 21,
   "id": "4dd84394",
   "metadata": {
    "ExecuteTime": {
     "end_time": "2022-04-09T09:50:18.638409Z",
     "start_time": "2022-04-09T09:50:18.623405Z"
    }
   },
   "outputs": [
    {
     "data": {
      "text/plain": [
       "tensor([[1., 1., 1.],\n",
       "        [1., 1., 1.],\n",
       "        [1., 1., 1.]])"
      ]
     },
     "execution_count": 21,
     "metadata": {},
     "output_type": "execute_result"
    }
   ],
   "source": [
    "D.new_ones((3,3))\n",
    "# （3,3）这里应该指的是形状"
   ]
  },
  {
   "cell_type": "code",
   "execution_count": 22,
   "id": "0ca74678",
   "metadata": {
    "ExecuteTime": {
     "end_time": "2022-04-09T09:50:18.654411Z",
     "start_time": "2022-04-09T09:50:18.639408Z"
    }
   },
   "outputs": [
    {
     "data": {
      "text/plain": [
       "tensor([[1., 1., 1.],\n",
       "        [1., 1., 1.],\n",
       "        [1., 1., 1.]], dtype=torch.float64)"
      ]
     },
     "execution_count": 22,
     "metadata": {},
     "output_type": "execute_result"
    }
   ],
   "source": [
    "#  张量与NumPy的数据相互转换\n",
    "# # 1. numpy数组转换为张量\n",
    "# torch.as_tensor()和torch.from_numpy()\n",
    "import numpy as np\n",
    "F=np.ones((3,3))\n",
    "Ftensor=torch.as_tensor(F)\n",
    "Ftensor\n",
    "# 会输出张量以及张量类型"
   ]
  },
  {
   "cell_type": "code",
   "execution_count": 23,
   "id": "f09a0484",
   "metadata": {
    "ExecuteTime": {
     "end_time": "2022-04-09T09:50:18.669414Z",
     "start_time": "2022-04-09T09:50:18.656411Z"
    }
   },
   "outputs": [
    {
     "data": {
      "text/plain": [
       "tensor([[1., 1., 1.],\n",
       "        [1., 1., 1.],\n",
       "        [1., 1., 1.]], dtype=torch.float64)"
      ]
     },
     "execution_count": 23,
     "metadata": {},
     "output_type": "execute_result"
    }
   ],
   "source": [
    "Ftensor=torch.from_numpy(F)\n",
    "Ftensor"
   ]
  },
  {
   "cell_type": "code",
   "execution_count": 24,
   "id": "763170d4",
   "metadata": {
    "ExecuteTime": {
     "end_time": "2022-04-09T09:50:18.685418Z",
     "start_time": "2022-04-09T09:50:18.670415Z"
    }
   },
   "outputs": [
    {
     "data": {
      "text/plain": [
       "array([[1., 1., 1.],\n",
       "       [1., 1., 1.],\n",
       "       [1., 1., 1.]])"
      ]
     },
     "execution_count": 24,
     "metadata": {},
     "output_type": "execute_result"
    }
   ],
   "source": [
    "Ftensor.numpy()"
   ]
  },
  {
   "cell_type": "code",
   "execution_count": 25,
   "id": "37f33347",
   "metadata": {
    "ExecuteTime": {
     "end_time": "2022-04-09T09:50:18.700422Z",
     "start_time": "2022-04-09T09:50:18.686418Z"
    }
   },
   "outputs": [
    {
     "name": "stdout",
     "output_type": "stream",
     "text": [
      "tensor([-0.1115,  0.2407, -1.1089, -0.9617])\n",
      "tensor([0.])\n"
     ]
    }
   ],
   "source": [
    "torch.manual_seed(123)\n",
    "# 指定平均值以及标准差生成随机数\n",
    "A=torch.normal(mean=0.0,std=torch.arange(1,5.0))\n",
    "print(A)\n",
    "A=torch.normal(mean=0.0,std=torch.arange(1.0))\n",
    "print(A)\n",
    "# mean为随机数平均值，std为随机数标准差，\n",
    "# 此外，mean和std只有一个的时候只会生成一个随机数\n",
    "# 如果有多个参数会生成多个随机数\n"
   ]
  },
  {
   "cell_type": "code",
   "execution_count": 26,
   "id": "5b44bb3c",
   "metadata": {
    "ExecuteTime": {
     "end_time": "2022-04-09T09:50:18.715426Z",
     "start_time": "2022-04-09T09:50:18.701422Z"
    }
   },
   "outputs": [
    {
     "name": "stdout",
     "output_type": "stream",
     "text": [
      "tensor([0.8885, 2.2407, 1.8911, 3.0383])\n"
     ]
    }
   ],
   "source": [
    "torch.manual_seed(123)\n",
    "A=torch.normal(mean=torch.arange(1,5.0),std=torch.arange(1,5.0))\n",
    "print(A)\n",
    "# 生成标准差为1234张量的函数"
   ]
  },
  {
   "cell_type": "code",
   "execution_count": 27,
   "id": "8b56c3aa",
   "metadata": {
    "ExecuteTime": {
     "end_time": "2022-04-09T09:50:18.731429Z",
     "start_time": "2022-04-09T09:50:18.716425Z"
    }
   },
   "outputs": [
    {
     "name": "stdout",
     "output_type": "stream",
     "text": [
      "tensor([[0.2961, 0.5166, 0.2517, 0.6886],\n",
      "        [0.0740, 0.8665, 0.1366, 0.1025],\n",
      "        [0.1841, 0.7264, 0.3153, 0.6871]])\n"
     ]
    }
   ],
   "source": [
    "# 在取件[0，1]生成服从均匀分布的张量\n",
    "torch.manual_seed(123)\n",
    "B=torch.rand(3,4)\n",
    "print(B)"
   ]
  },
  {
   "cell_type": "code",
   "execution_count": 28,
   "id": "e01ec78e",
   "metadata": {
    "ExecuteTime": {
     "end_time": "2022-04-09T09:50:18.746432Z",
     "start_time": "2022-04-09T09:50:18.732429Z"
    }
   },
   "outputs": [
    {
     "name": "stdout",
     "output_type": "stream",
     "text": [
      "tensor([[0.2961, 0.5166, 0.2517],\n",
      "        [0.6886, 0.0740, 0.8665]])\n"
     ]
    }
   ],
   "source": [
    "torch.manual_seed(123)\n",
    "C=torch.ones(2,3)\n",
    "D=torch.rand_like(C)\n",
    "print(D)"
   ]
  },
  {
   "cell_type": "code",
   "execution_count": 29,
   "id": "6cfa3a73",
   "metadata": {
    "ExecuteTime": {
     "end_time": "2022-04-09T09:50:18.761855Z",
     "start_time": "2022-04-09T09:50:18.747433Z"
    }
   },
   "outputs": [
    {
     "data": {
      "text/plain": [
       "tensor([[ 0.9447,  0.6217, -1.3501],\n",
       "        [-0.1881, -2.3891, -0.4759],\n",
       "        [ 1.7603,  0.6547,  0.5490]])"
      ]
     },
     "execution_count": 29,
     "metadata": {},
     "output_type": "execute_result"
    }
   ],
   "source": [
    "torch.randn((3,3))"
   ]
  },
  {
   "cell_type": "code",
   "execution_count": 30,
   "id": "b0c56d04",
   "metadata": {
    "ExecuteTime": {
     "end_time": "2022-04-09T09:50:18.777843Z",
     "start_time": "2022-04-09T09:50:18.762856Z"
    }
   },
   "outputs": [
    {
     "name": "stdout",
     "output_type": "stream",
     "text": [
      "tensor([[ 0.3671,  0.1219,  0.6466],\n",
      "        [-1.4168,  0.8429, -0.6307]])\n"
     ]
    }
   ],
   "source": [
    "print(torch.randn_like(C))"
   ]
  },
  {
   "cell_type": "code",
   "execution_count": 31,
   "id": "014b6828",
   "metadata": {
    "ExecuteTime": {
     "end_time": "2022-04-09T09:50:18.793850Z",
     "start_time": "2022-04-09T09:50:18.778843Z"
    }
   },
   "outputs": [
    {
     "data": {
      "text/plain": [
       "tensor([2, 0, 8, 1, 3, 7, 4, 9, 5, 6])"
      ]
     },
     "execution_count": 31,
     "metadata": {},
     "output_type": "execute_result"
    }
   ],
   "source": [
    "torch.manual_seed(123)\n",
    "torch.randperm(10)"
   ]
  },
  {
   "cell_type": "code",
   "execution_count": 32,
   "id": "bbbc8700",
   "metadata": {
    "ExecuteTime": {
     "end_time": "2022-04-09T09:50:18.809820Z",
     "start_time": "2022-04-09T09:50:18.794850Z"
    }
   },
   "outputs": [
    {
     "data": {
      "text/plain": [
       "tensor([ 1.0000,  3.2500,  5.5000,  7.7500, 10.0000])"
      ]
     },
     "execution_count": 32,
     "metadata": {},
     "output_type": "execute_result"
    }
   ],
   "source": [
    "torch.linspace(start=1,end=10,steps=5)\n",
    "# 等距生成张量"
   ]
  },
  {
   "cell_type": "code",
   "execution_count": 33,
   "id": "3da3ecc2",
   "metadata": {
    "ExecuteTime": {
     "end_time": "2022-04-09T09:50:18.825824Z",
     "start_time": "2022-04-09T09:50:18.810822Z"
    }
   },
   "outputs": [
    {
     "data": {
      "text/plain": [
       "tensor([1.0000e+01, 1.7783e+03, 3.1623e+05, 5.6234e+07, 1.0000e+10])"
      ]
     },
     "execution_count": 33,
     "metadata": {},
     "output_type": "execute_result"
    }
   ],
   "source": [
    "10**(torch.linspace(start=1,end=10,steps=5))"
   ]
  },
  {
   "cell_type": "code",
   "execution_count": 34,
   "id": "854b98bc",
   "metadata": {
    "ExecuteTime": {
     "end_time": "2022-04-09T09:50:18.841829Z",
     "start_time": "2022-04-09T09:50:18.826824Z"
    }
   },
   "outputs": [
    {
     "data": {
      "text/plain": [
       "tensor([ 1.2589,  2.1135,  3.5481,  5.9566, 10.0000])"
      ]
     },
     "execution_count": 34,
     "metadata": {},
     "output_type": "execute_result"
    }
   ],
   "source": [
    "torch.logspace(start=0.1,end=1.0,steps=5)\n",
    "# 以对数为间隔，生成张量，上面的起始值为对数的x"
   ]
  },
  {
   "cell_type": "code",
   "execution_count": 35,
   "id": "a0682b6c",
   "metadata": {
    "ExecuteTime": {
     "end_time": "2022-04-09T09:50:18.856982Z",
     "start_time": "2022-04-09T09:50:18.842831Z"
    }
   },
   "outputs": [
    {
     "data": {
      "text/plain": [
       "tensor([[1., 0., 0.],\n",
       "        [0., 1., 0.],\n",
       "        [0., 0., 1.]])"
      ]
     },
     "execution_count": 35,
     "metadata": {},
     "output_type": "execute_result"
    }
   ],
   "source": [
    "torch.eye(3)"
   ]
  },
  {
   "cell_type": "code",
   "execution_count": null,
   "id": "dc9167a5",
   "metadata": {
    "ExecuteTime": {
     "end_time": "2022-04-09T09:49:39.360096Z",
     "start_time": "2022-04-09T09:49:39.349661Z"
    }
   },
   "outputs": [],
   "source": []
  },
  {
   "cell_type": "code",
   "execution_count": null,
   "id": "b7886aad",
   "metadata": {
    "ExecuteTime": {
     "end_time": "2022-04-09T09:49:47.158647Z",
     "start_time": "2022-04-09T09:49:47.011702Z"
    }
   },
   "outputs": [],
   "source": []
  },
  {
   "cell_type": "code",
   "execution_count": null,
   "id": "6430d7d8",
   "metadata": {},
   "outputs": [],
   "source": []
  }
 ],
 "metadata": {
  "kernelspec": {
   "display_name": "Python 3",
   "language": "python",
   "name": "python3"
  },
  "language_info": {
   "codemirror_mode": {
    "name": "ipython",
    "version": 3
   },
   "file_extension": ".py",
   "mimetype": "text/x-python",
   "name": "python",
   "nbconvert_exporter": "python",
   "pygments_lexer": "ipython3",
   "version": "3.8.8"
  }
 },
 "nbformat": 4,
 "nbformat_minor": 5
}
