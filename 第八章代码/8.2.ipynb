{
 "cells": [
  {
   "cell_type": "code",
   "execution_count": 2,
   "metadata": {},
   "outputs": [],
   "source": [
    "# 导入本节所需要的模块\n",
    "import numpy as np\n",
    "import pandas as pd\n",
    "import matplotlib.pyplot as plt\n",
    "from mpl_toolkits.mplot3d import Axes3D\n",
    "import hiddenlayer as hl\n",
    "from sklearn.manifold import TSNE\n",
    "from sklearn.svm import SVC\n",
    "from sklearn.decomposition import PCA\n",
    "from sklearn.metrics import classification_report,accuracy_score\n",
    "import torch\n",
    "from torch import nn\n",
    "import torch.nn.functional as F\n",
    "import torch.utils.data as Data\n",
    "import torch.optim as optim\n",
    "from torchvision import transforms\n",
    "from torchvision.datasets import MNIST\n",
    "from torchvision.utils import make_grid\n"
   ]
  },
  {
   "cell_type": "code",
   "execution_count": 1,
   "metadata": {},
   "outputs": [
    {
     "ename": "NameError",
     "evalue": "name 'MNIST' is not defined",
     "output_type": "error",
     "traceback": [
      "\u001b[1;31m---------------------------------------------------------------------------\u001b[0m",
      "\u001b[1;31mNameError\u001b[0m                                 Traceback (most recent call last)",
      "\u001b[1;32m<ipython-input-1-eeb8eb92c491>\u001b[0m in \u001b[0;36m<module>\u001b[1;34m\u001b[0m\n\u001b[0;32m      1\u001b[0m \u001b[1;31m# 使用手写体数据，准备训练数据集\u001b[0m\u001b[1;33m\u001b[0m\u001b[1;33m\u001b[0m\u001b[1;33m\u001b[0m\u001b[0m\n\u001b[1;32m----> 2\u001b[1;33m train_data=MNIST(\n\u001b[0m\u001b[0;32m      3\u001b[0m     \u001b[0mroot\u001b[0m\u001b[1;33m=\u001b[0m\u001b[1;34m\"./data/MNIST\"\u001b[0m\u001b[1;33m,\u001b[0m\u001b[1;31m# 数据的路径\u001b[0m\u001b[1;33m\u001b[0m\u001b[1;33m\u001b[0m\u001b[0m\n\u001b[0;32m      4\u001b[0m     \u001b[0mtrian\u001b[0m\u001b[1;33m=\u001b[0m\u001b[1;32mTrue\u001b[0m\u001b[1;33m,\u001b[0m\u001b[1;31m# 只使用训练数据集\u001b[0m\u001b[1;33m\u001b[0m\u001b[1;33m\u001b[0m\u001b[0m\n\u001b[0;32m      5\u001b[0m     \u001b[0mtransform\u001b[0m\u001b[1;33m=\u001b[0m\u001b[0mtransforms\u001b[0m\u001b[1;33m.\u001b[0m\u001b[0mToTensor\u001b[0m\u001b[1;33m(\u001b[0m\u001b[1;33m)\u001b[0m\u001b[1;33m,\u001b[0m\u001b[1;33m\u001b[0m\u001b[1;33m\u001b[0m\u001b[0m\n",
      "\u001b[1;31mNameError\u001b[0m: name 'MNIST' is not defined"
     ]
    }
   ],
   "source": [
    "# 使用手写体数据，准备训练数据集\n",
    "train_data=MNIST(\n",
    "    root=\"./data/MNIST\",# 数据的路径\n",
    "    trian=True,# 只使用训练数据集\n",
    "    transform=transforms.ToTensor(),\n",
    "    download=False\n",
    ")\n",
    "# 将图像数据转化为向量数据\n",
    "train_data_x=train_data.data.type(torch.FloatTensor)/225.0\n",
    "train_data_x=train_data_x.reshape(train_data_x.shape[0],-1)\n",
    "train_data_y=train_data.targets\n",
    "# 定义一个数据加载器\n",
    "train_loader=Data.DataLoader(\n",
    "    dataset=train_data_x,# 使用的数据集\n",
    "    batch_size=64,# 批处理样本大小\n",
    "    shuffle=True,# 每次迭代之前打乱数据\n",
    "    num_workers=2,# 使用两个进程\n",
    ")\n",
    "# 对测试数据集进行导入\n",
    "test_data=MNIST(\n",
    "    root=\"./data/MNIST\",# 数据的路径\n",
    "    train=False,# 只使用训练数据集\n",
    "    transform=transforms.ToTensor(),\n",
    "    download=False\n",
    ")\n",
    "# 为测试数据添加一个通道维度，获取测试数据的X和Y\n",
    "test_data_x=test_data.data.type(torch.FloatTensor)/225.0\n",
    "test_data_x=test_data_x.reshape(test_data_x.shape[0],-1)\n",
    "test_data_y=test_data.targets\n",
    "print(\"训练数据集:\",train_data_x.shape)\n",
    "print(\"测试数据集:\",test_data_x.shape)"
   ]
  },
  {
   "cell_type": "code",
   "execution_count": null,
   "metadata": {},
   "outputs": [],
   "source": [
    "# 可视化一个batch的图像内容，获得一个batch的数据\n",
    "for step,b_x in enumerate(train_loader):\n",
    "    if step>0:\n",
    "        break\n",
    "# 可视化一个batch的图像\n",
    "im=make_grid(b_x.reshape((-1,1,28,28)))\n",
    "im=im.data.numpy().transpose((1,2,0))\n",
    "plt.figure()\n",
    "plt.imshow(im)\n",
    "plt.axis(\"off\")\n",
    "plt.show()\n"
   ]
  },
  {
   "cell_type": "code",
   "execution_count": null,
   "metadata": {},
   "outputs": [],
   "source": [
    "\n",
    "class EnDecoder(nn.Module):\n",
    "    def __init__(self):\n",
    "        super(EnDecoder,self).__init__()\n",
    "        # 定义一个Encoder\n",
    "        self.Encoder=nn.Sequential(\n",
    "            nn.Linear(784,512),\n",
    "            nn.Tanh(),\n",
    "            nn.Linear(512,256),\n",
    "            nn.Tanh(),\n",
    "            nn.Linear(256,128),\n",
    "            nn.Tanh(),\n",
    "            nn.Linear(128,3),\n",
    "            nn.Tanh(),\n",
    "        )\n",
    "        # 定义Decoder\n",
    "        self.Decoder=nn.Sequential(\n",
    "            nn.Linear(3,128),\n",
    "            nn.Tanh(),\n",
    "            nn.Linear(128,256),\n",
    "            nn.Tanh(),\n",
    "            nn.Linear(256,512),\n",
    "            nn.Tanh(),\n",
    "            nn.Linear(512,784),\n",
    "            nn.Sigmoid(),\n",
    "        )\n",
    "    # 定义网络的前向传播途径\n",
    "    def forward(self,x):\n",
    "        encoder=self.Encoder(x)\n",
    "        decoder=self.Decoder(encoder)\n",
    "        return encoder,decoder"
   ]
  },
  {
   "cell_type": "code",
   "execution_count": null,
   "metadata": {},
   "outputs": [],
   "source": [
    "# 输出网络结构\n",
    "edmodel=EnDecoder()"
   ]
  },
  {
   "cell_type": "code",
   "execution_count": null,
   "metadata": {},
   "outputs": [],
   "source": [
    "# 定义优化器\n",
    "optimizer=torch.optim.Adam(edmodel.parameters(),lr=0.0003)\n",
    "loss_func=nn.MSELoss()\n",
    "# 记录训练过程中的指标\n",
    "histroy1=hl.History()\n",
    "# 使用Canvas进行可视化\n",
    "canvasl=hl.Canvas()\n",
    "train_num=0\n",
    "val_num=0\n",
    "# 对模型进行迭代训练，对所有的数据进行训练epoch轮\n",
    "for epoch in range(10):\n",
    "    train_loss_epoch=0\n",
    "    # 对训练数据的加载器进行迭代计算\n",
    "    for step,b_x in enumerate(train_loader):\n",
    "        # 使用每个batch进行训练模型\n",
    "        _,output=edmodel(b_x) # 在训练batch上的输出\n",
    "        loss=loss_func(output,b_x) # 均方根误差\n",
    "        optimizer.zero_grad() # 每个迭代步的梯度初始化为0\n",
    "        loss.backward() # 损失的后向传播，计算梯度\n",
    "        optimizer.step() # 使用梯度进行优化\n",
    "        train_loss_epoch+=loss.item()\n",
    "        train_num=train_num+b_x.size(0)\n",
    "    # 计算一个epoch的损失\n",
    "    train_loss=train_loss_epoch/train_num\n",
    "    # 保存每个epoch上的输出loss\n",
    "    histroy1.log(epoch,train_loss=train_loss)\n",
    "    # 可视化网络训练过程\n",
    "    with canvasl:\n",
    "        canvasl.draw_plot(histroy1[\"train_loss\"])\n",
    "\n"
   ]
  },
  {
   "cell_type": "code",
   "execution_count": null,
   "metadata": {},
   "outputs": [],
   "source": [
    "# 预测测试集钱100张图像的输出\n",
    "edmodel.eval()\n",
    "_,test_decoder=edmodel(test_data_x[0:100,:])\n",
    "# 可视化原始的图像\n",
    "plt.figure(figsize=(6,6))\n",
    "for ii in range(test_decoder.shape[0]):\n",
    "    plt.subplot(10,10,ii+1)\n",
    "    im=test_data_x[ii,:]\n",
    "    im=im.data.numpy().reshape(28,28)\n",
    "    plt.imshow(im,cmap=plt.cm.gray)\n",
    "    plt.axis(\"off\")\n",
    "plt.show()\n",
    "# 可视化编码后的图像\n",
    "plt.figure(figsize=(6,6))\n",
    "for ii in range(test_decoder.shape[0]):\n",
    "    plt.subplot(10,10,ii+1)\n",
    "    im=test_decoder[ii,:]\n",
    "    im=im.data.numpy().reshape(28,28)\n",
    "    plt.imshow(im,cmap=plt.cm.gray)\n",
    "    plt.axis(\"off\")\n",
    "plt.show()\n"
   ]
  },
  {
   "cell_type": "code",
   "execution_count": null,
   "metadata": {},
   "outputs": [],
   "source": [
    "# 获取前500个样本的自编码后的特征，并对数据进行可视化\n",
    "edmodel.eval()\n",
    "TEST_num=500\n",
    "test_encoder,_=edmodel(test_data_x[0:TEST_num,:])\n",
    "print(\"test_encoder.shape:\",test_encoder.shape)"
   ]
  },
  {
   "cell_type": "code",
   "execution_count": null,
   "metadata": {},
   "outputs": [],
   "source": [
    "%config InlineBackend.print_figure_kwargs={'bbox_inches':None}\n",
    "# 将三个维度的特征进行可视化\n",
    "test_encoder_arr=test_encoder.data.numpy()\n",
    "fig=plt.figure(figsize=(12,8))\n",
    "ax1=Axes3D(fig)\n",
    "X=test_encoder_arr[:,0]\n",
    "Y=test_encoder_arr[:,1]\n",
    "Z=test_encoder_arr[:,2]\n",
    "ax1.set_xlim([min(X),max(X)])\n",
    "ax1.set_ylim([min(Y),max(Y)])\n",
    "ax1.set_zlim([min(Z),max(Z)])\n",
    "for ii in range(test_encoder.shape[0]):\n",
    "    text=test_data_y.data.numpy()[ii]\n",
    "    ax1.text(X[ii],Y[ii,],Z[ii],str(text),fontsize=8,\n",
    "    bbox=dict(boxstyle=\"round\",facecolor=plt.cm.Setl(text),alpha=0.7))\n",
    "plt.show()\n"
   ]
  },
  {
   "cell_type": "code",
   "execution_count": null,
   "metadata": {},
   "outputs": [],
   "source": [
    "# 自编码后的特征训练集和测试集\n",
    "train_ed_x,_=edmodel(train_data_x)\n",
    "train_ed_x=train_ed_x.data.numpy()\n",
    "train_y=train_data_y.data.numpy()\n",
    "test_ed_x,_=edmodel(test_data_x)\n",
    "test_ed_x=test_ed_x.data.numpy()\n",
    "test_y=test_data_y.data.numpy()\n"
   ]
  },
  {
   "cell_type": "code",
   "execution_count": null,
   "metadata": {},
   "outputs": [],
   "source": [
    "# PCA降维获得的训练集合测试集的前三个主成分\n",
    "pcamodel=PCA(n_components=3,random_state=10)\n",
    "train_pca_x=pcamodel.fit_transform(train_data_x.data.numpy())\n",
    "test_pca_x=pcamodel.transform(test_data_x.data.numpy())\n",
    "print(train_pca_x.shape)\n"
   ]
  },
  {
   "cell_type": "code",
   "execution_count": null,
   "metadata": {},
   "outputs": [],
   "source": [
    "# 使用自编码器搭建分类器，训练和预测\n",
    "encodersvc=SVC(kernel=\"rbf\",random_state=123)\n",
    "encodersvc.fit(train_ed_x,train_y)\n",
    "edsvc_pre=encodersvc.predict(test_ed_x)\n",
    "print(classification_report(test_y,edsvc_pre))\n",
    "print(\"模型精度\",accuracy_score(test_y,edsvc_pre))\n"
   ]
  },
  {
   "cell_type": "code",
   "execution_count": null,
   "metadata": {},
   "outputs": [],
   "source": [
    "# 使用PCA降维数据建立分类器，训练和预测\n",
    "pcasvc=SVC(kernel=\"rbf\",random_state=123)\n",
    "pcasvc.fit(train_pca_x,train_y)\n",
    "pcasvc_pre=pcasvc.predict(test_pca_x)\n",
    "print(classification_report(test_y,pcasvc_pre))\n",
    "print(\"模型精度\",accuracy_score(test_y,pcasvc_pre))"
   ]
  }
 ],
 "metadata": {
  "kernelspec": {
   "display_name": "Python 3.8.8 ('base')",
   "language": "python",
   "name": "python3"
  },
  "language_info": {
   "codemirror_mode": {
    "name": "ipython",
    "version": 3
   },
   "file_extension": ".py",
   "mimetype": "text/x-python",
   "name": "python",
   "nbconvert_exporter": "python",
   "pygments_lexer": "ipython3",
   "version": "3.8.8"
  },
  "orig_nbformat": 4,
  "vscode": {
   "interpreter": {
    "hash": "a04f5d07b0747026a8fbcdf50b9443318e69b1b8bd6247d88bfadb4789282972"
   }
  }
 },
 "nbformat": 4,
 "nbformat_minor": 2
}
