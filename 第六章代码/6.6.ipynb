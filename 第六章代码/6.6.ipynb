{
 "cells": [
  {
   "cell_type": "code",
   "execution_count": null,
   "metadata": {},
   "outputs": [],
   "source": [
    "# 导入所需要的模块\n",
    "import numpy as np\n",
    "import pandas as pd\n",
    "import matplotlib.pyplot as plt\n",
    "import requests\n",
    "import cv2\n",
    "import torch\n",
    "from torch import nn\n",
    "import torch.nn.functional as F\n",
    "from torchvision import models\n",
    "from torchvision import transforms\n",
    "from PIL import Image\n"
   ]
  },
  {
   "cell_type": "code",
   "execution_count": null,
   "metadata": {},
   "outputs": [],
   "source": [
    "# 导入预训练好多VGG16网络\n",
    "vgg16=models.vgg16(pretrained=True)"
   ]
  },
  {
   "cell_type": "code",
   "execution_count": null,
   "metadata": {},
   "outputs": [],
   "source": [
    "# 读取一张图片，并对其进行可视化\n",
    "im=Image.open(\"data/chap6/lala.jpg\")\n",
    "imarray=np.asarray(im)/255.0\n",
    "plt.figure()\n",
    "plt.imshow(imarray)\n",
    "plt.show()"
   ]
  },
  {
   "cell_type": "code",
   "execution_count": null,
   "metadata": {},
   "outputs": [],
   "source": [
    "# 将一张图像处理为VGG16网络可以处理的形式\n",
    "data_transforms=transforms.Compose([\n",
    "    transforms.Resize((244,244)),# 重置图像分辨率\n",
    "    transforms.ToTensor(),# 转化张量并归一化处理为【0-1】\n",
    "    transforms.Normalize([0.485,0.456,0.406],[0.229,0.224,0.225])\n",
    "])\n",
    "input_im=data_transforms(im).unsqueeze(0)\n",
    "print(\"input_im.shape:\",input_im.shape)\n"
   ]
  },
  {
   "cell_type": "code",
   "execution_count": 2,
   "metadata": {},
   "outputs": [],
   "source": [
    "# 定义一个辅助函数，来获取指定层名称的特征\n",
    "activation={}# 保存不同层的输出\n",
    "def get_activation(name):\n",
    "    def hook(model,input,output):\n",
    "        activation[name]=output.detach()\n",
    "    return hook"
   ]
  },
  {
   "cell_type": "code",
   "execution_count": null,
   "metadata": {},
   "outputs": [],
   "source": [
    "# 获取中间的卷积后的图像特征\n",
    "vgg16.eval()\n",
    "# 获取网络中第四层，经过第一次最大值池化后的特征映射\n",
    "vgg16.features[4].register_forward_hook(get_activation(\"maxpooll\"))\n",
    "_=vgg16(input_im)\n",
    "maxpooll=activation(\"maxpooll.shape\")\n"
   ]
  },
  {
   "cell_type": "code",
   "execution_count": null,
   "metadata": {},
   "outputs": [],
   "source": [
    "# 对中间层进行可视化，可视化64个特征映射\n",
    "plt.figure(figsize=(11,6))\n",
    "for ii in range(maxpooll.shape[1]):\n",
    "    # 可视化每张手写体\n",
    "    plt.subplot(6,11,ii+1)\n",
    "    plt.imshow(maxpooll.data.numpy()[0,ii,:,:],cmap=\"gray\")\n",
    "    plt.axis(\"off\")\n",
    "plt.subplots_adjust(wspace=0.1,hspace=0.1)\n",
    "plt.show()"
   ]
  },
  {
   "cell_type": "code",
   "execution_count": null,
   "metadata": {},
   "outputs": [],
   "source": [
    "# 获取VGG16模型训练的时候对于的1000个类别标签\n",
    "LABEL_URL=\"https://s3.amazonaws.com/outcome-blog/imagenet/labels.json\"\n",
    "# 从网页链接中获取类别标签\n",
    "response=requests.get(LABEL_URL)\n",
    "label={int(key): value for key,value in response.json().items()}"
   ]
  },
  {
   "cell_type": "code",
   "execution_count": null,
   "metadata": {},
   "outputs": [],
   "source": [
    "# 使用VGG16网络预测图像的种类\n",
    "vgg16.eval()\n",
    "im_pre=vgg16(input_im)\n",
    "# 计算预测top-5的可能性\n",
    "softmax=nn.Softmax(dim=1)\n",
    "im_pre_prob=softmax(im_pre)\n",
    "prob,prelab=torch.topk(im_pre_prob,5)\n",
    "prob=prob.data.numpy().flatten()\n",
    "prelab=prelab.numpy().flatten()\n",
    "for ii,lab in enumerate(prelab):\n",
    "    print(\"index:\",lab,\"label:\",label[lab],\"||\",prob[ii])"
   ]
  },
  {
   "cell_type": "code",
   "execution_count": null,
   "metadata": {},
   "outputs": [],
   "source": [
    "# 定义一个能够获得最后的卷积层输出和梯度的新网络\n",
    "class MyVgg16(nn.Module):\n",
    "    def __init__(self):\n",
    "        super(MyVgg16,self).__init__()\n",
    "        # 使用预训练好的VGG16模型\n",
    "        self.vgg=models.vgg16(pretrained=True)\n",
    "        # 切分VGG16模型，便于获取卷积层输出\n",
    "        self.features_conv=self.vgg.features[:30]\n",
    "        # 使用原始的最大池化层\n",
    "        self.max_pool=self.vgg.features[30]\n",
    "        self.avgpool=self.vgg.avgpool\n",
    "        # 使用VGG16的分类层\n",
    "        self.classifier=self.vgg.classifier\n",
    "        # 生成梯度占位符\n",
    "        self.gradients=None\n",
    "    # 获取梯度的钩子函数\n",
    "    def activation_hook(self,grad):\n",
    "        self.gradients=grad\n",
    "    def forward(self,x):\n",
    "        x=self.features_conv(x)\n",
    "        # 注册钩子\n",
    "        h=x.register_hook(self.activation_hook)\n",
    "        # 对卷积后的输出使用最大值池化\n",
    "        x=self.max_pool(x)\n",
    "        x=self.avgpool(x)\n",
    "        x=x.view((1,-1))\n",
    "        x=self.classifier(x)\n",
    "        return x\n",
    "    # 获取梯度的方法\n",
    "    def get_activation_gradient(self):\n",
    "        return self.gradients\n",
    "    # 获取卷积层输出的方法\n",
    "    def get_activation(self,x):\n",
    "        return self.features_conv(x)\n",
    "        "
   ]
  },
  {
   "cell_type": "code",
   "execution_count": null,
   "metadata": {},
   "outputs": [],
   "source": [
    "# 初始化网络\n",
    "vggcam=MyVgg16()\n",
    "# 设置网络的模式\n",
    "vggcam.eval()\n",
    "# 计算网络对于图像的预测值\n",
    "im_pre=vggcam(input_im)\n",
    "# 计算预测top-5的可能性\n",
    "softmax=nn.Softmax(dim=1)\n",
    "im_pre_prob=softmax(im_pre)\n",
    "prob,prelab=torch.topk(im_pre_prob,5)\n",
    "prob=prob.data.numpy().flatten()\n",
    "prelab=prelab.numpy().flatten()\n",
    "for ii,lab in enumerate(prelab):\n",
    "    print(\"index:\",lab,\"label:\",label[lab],\"||\",prob[ii])"
   ]
  },
  {
   "cell_type": "code",
   "execution_count": null,
   "metadata": {},
   "outputs": [],
   "source": [
    "# 获取相对于模型参数的输出梯度\n",
    "im_pre[:,prelab[0]].backward()\n",
    "# 获取模型的梯度\n",
    "gradients=vggcam.get_activation_gradient()\n",
    "# 计算梯度相应通道的均值\n",
    "mean_gradients=torch.mean(gradients,dim=[0,2,3])\n",
    "# 获取图像在相应卷积层输出的卷积特征\n",
    "activations=vggcam.get_activation(input_im).detach()\n",
    "# 每个通道乘以相应的梯度均值\n",
    "for i in range(len(mean_gradients)):\n",
    "    activations[:,i,:,:]*=mean_gradients[i]\n",
    "# 计算所有通道的均值输出得到热力图\n",
    "heatmap=torch.mean(activations,dim=1),squeeze()\n",
    "# 使用relu激活函数作用于生成热力图\n",
    "heatmap=F.relu(heatmap)\n",
    "# 对热力图进行标准化\n",
    "heatmap/=torch.max(heatmap)\n",
    "heatmap=heatmap.numpy()\n",
    "# 可视化热力图\n",
    "plt.matshow(heatmap)\n"
   ]
  },
  {
   "cell_type": "code",
   "execution_count": null,
   "metadata": {},
   "outputs": [],
   "source": [
    "# 将CAM热力图融合到原始图像上\n",
    "img=cv2.imread(\"data/chap6/lala.jpg\")\n",
    "heatmap=cv2.resize(heatmap,(img.shape[1],img.shape[0]))\n",
    "heatmap=np.unit8(255*heatmap)\n",
    "heatmap=cv2.applyColorMap(heatmap,cv2.COLORMAP_JET)\n",
    "Grad_cam_img=heatmap*0.4+img\n",
    "Grad_cam_img=Grad_cam_img/Grad_cam_img.max()\n",
    "# 可视化图像\n",
    "b,g,r=cv2.split(Grad_cam_img)\n",
    "Grad_cam_img=cv2.merge([r,g,b])\n",
    "plt.figure()\n",
    "plt.imshow(Grad_cam_img)\n",
    "plt.show()"
   ]
  }
 ],
 "metadata": {
  "kernelspec": {
   "display_name": "Python 3.8.8 ('base')",
   "language": "python",
   "name": "python3"
  },
  "language_info": {
   "codemirror_mode": {
    "name": "ipython",
    "version": 3
   },
   "file_extension": ".py",
   "mimetype": "text/x-python",
   "name": "python",
   "nbconvert_exporter": "python",
   "pygments_lexer": "ipython3",
   "version": "3.8.8"
  },
  "orig_nbformat": 4,
  "vscode": {
   "interpreter": {
    "hash": "a04f5d07b0747026a8fbcdf50b9443318e69b1b8bd6247d88bfadb4789282972"
   }
  }
 },
 "nbformat": 4,
 "nbformat_minor": 2
}
