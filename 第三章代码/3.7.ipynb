{
 "cells": [
  {
   "cell_type": "code",
   "execution_count": 12,
   "metadata": {},
   "outputs": [],
   "source": [
    "import torch\n",
    "import torch.nn as nn # 方便与对于网络中层的使用\n",
    "from torch.optim import SGD\n",
    "import torch.utils.data as Data # 进行数据的预处理\n",
    "from sklearn.datasets import load_boston # 导入数据\n",
    "from sklearn.preprocessing import StandardScaler # 数据标准化\n",
    "import pandas as pd\n",
    "import numpy as np\n",
    "import matplotlib.pyplot as plt\n"
   ]
  },
  {
   "cell_type": "code",
   "execution_count": 13,
   "metadata": {},
   "outputs": [],
   "source": [
    "# 使用定义网络的时候使用nn.Sequential的形式\n",
    "class MLPmodel2(nn.Module):\n",
    "    def __init__(self):\n",
    "        super(MLPmodel2,self).__init__()\n",
    "        # 定义隐藏层\n",
    "        self.hidden=nn.Sequential(\n",
    "            nn.Linear(13,10),\n",
    "            nn.ReLU(),\n",
    "            nn.Linear(10,10),\n",
    "            nn.ReLU(),\n",
    "        )\n",
    "        # 预测回归层\n",
    "        self.regression=nn.Linear(10,1)\n",
    "        # 定义网络的前向传播途径\n",
    "    def forward(self,x):\n",
    "        x=self.hidden(x)\n",
    "        output=self.regression(x)\n",
    "        return output"
   ]
  },
  {
   "cell_type": "code",
   "execution_count": 14,
   "metadata": {},
   "outputs": [
    {
     "name": "stdout",
     "output_type": "stream",
     "text": [
      "MLPmodel2(\n",
      "  (hidden): Sequential(\n",
      "    (0): Linear(in_features=13, out_features=10, bias=True)\n",
      "    (1): ReLU()\n",
      "    (2): Linear(in_features=10, out_features=10, bias=True)\n",
      "    (3): ReLU()\n",
      "  )\n",
      "  (regression): Linear(in_features=10, out_features=1, bias=True)\n",
      ")\n"
     ]
    }
   ],
   "source": [
    "# 输出网格结构\n",
    "mlp2=MLPmodel2()\n",
    "print(mlp2)"
   ]
  },
  {
   "cell_type": "code",
   "execution_count": 15,
   "metadata": {},
   "outputs": [
    {
     "name": "stdout",
     "output_type": "stream",
     "text": [
      "boston_X.shape: (506, 13)\n"
     ]
    },
    {
     "data": {
      "image/png": "[encoded data removed]",
      "text/plain": [
       "<Figure size 432x288 with 1 Axes>"
      ]
     },
     "metadata": {
      "needs_background": "light"
     },
     "output_type": "display_data"
    }
   ],
   "source": [
    "# 读取数据\n",
    "boston_X,boston_y=load_boston(return_X_y=True)\n",
    "print(\"boston_X.shape:\",boston_X.shape)\n",
    "plt.figure()\n",
    "plt.hist(boston_y,bins=20)\n",
    "plt.show()"
   ]
  },
  {
   "cell_type": "code",
   "execution_count": 16,
   "metadata": {},
   "outputs": [],
   "source": [
    "# 数据标准化处理\n",
    "ss=StandardScaler(with_mean=True,with_std=True)\n",
    "boston_Xs=ss.fit_transform(boston_X)\n",
    "# 将数据集预处理为可以使用pytorch进行批量训练的形式\n",
    "# 训练集x转化为张量\n",
    "train_xt=torch.from_numpy(boston_Xs.astype(np.float32))\n",
    "# 训练集y转化为张量\n",
    "trian_yt=torch.from_numpy(boston_y.astype(np.float32))\n",
    "# 将训练集转化为张量，使用TensorDataset将x和y整合到一起\n",
    "trian_data=Data.TensorDataset(train_xt,trian_yt)\n",
    "# 定义一个数据加载器，将训练数据集进行批量处理\n",
    "train_loader=Data.DataLoader(\n",
    "    dataset=trian_data, # 使用的数据集\n",
    "    batch_size=128,# 批处理的样本大小\n",
    "    shuffle=True,# 每次迭代之前打乱数据\n",
    "    num_workers=1# 使用两个进程\n",
    ")"
   ]
  },
  {
   "cell_type": "code",
   "execution_count": 17,
   "metadata": {},
   "outputs": [
    {
     "data": {
      "image/png": "[encoded data removed]",
      "text/plain": [
       "<Figure size 432x288 with 1 Axes>"
      ]
     },
     "metadata": {
      "needs_background": "light"
     },
     "output_type": "display_data"
    }
   ],
   "source": [
    "\n",
    "# 对于回归模型mlp2进行训练并输出损失函数的变化情况，定义优化器和损失函数\n",
    "optimizer=SGD(mlp2.parameters(),lr=0.001)\n",
    "loss_func=nn.MSELoss() # 最小均方根误差\n",
    "train_loss_all=[] # 输出每个批次训练的损失函数\n",
    "# 进行训练，并输出每次迭代的损失函数\n",
    "for epoch in range(30):\n",
    "    # 对训练数据的加载器进行迭代运算\n",
    "    for step,(b_x,b_y) in enumerate(train_loader):\n",
    "        output=mlp2(b_x).flatten() # mlp在旋律batch上的输出\n",
    "        train_loss=loss_func(output,b_y) # 均方根误差\n",
    "        optimizer.zero_grad() # 每个迭代步的梯度初始化为0\n",
    "        train_loss.backward() # 损失的后向传播，计算梯度\n",
    "        optimizer.step() # 使用梯度进行优化\n",
    "        train_loss_all.append(train_loss.item())\n",
    "plt.figure()\n",
    "plt.plot(train_loss_all,\"r-\")\n",
    "plt.title(\"Train loss per iteration\")\n",
    "plt.show()"
   ]
  },
  {
   "cell_type": "code",
   "execution_count": 25,
   "metadata": {},
   "outputs": [
    {
     "name": "stdout",
     "output_type": "stream",
     "text": [
      "MLPmodel2(\n",
      "  (hidden): Sequential(\n",
      "    (0): Linear(in_features=13, out_features=10, bias=True)\n",
      "    (1): ReLU()\n",
      "    (2): Linear(in_features=10, out_features=10, bias=True)\n",
      "    (3): ReLU()\n",
      "  )\n",
      "  (regression): Linear(in_features=10, out_features=1, bias=True)\n",
      ")\n"
     ]
    }
   ],
   "source": [
    "# 保存整个模型\n",
    "torch.save(mlp2,\"data/chap3/mlp2.pkl\")\n",
    "# 导入保存的模型\n",
    "mlp2load=torch.load(\"data/chap3/mlp2.pkl\")\n",
    "print(mlp2load)"
   ]
  },
  {
   "cell_type": "code",
   "execution_count": 26,
   "metadata": {},
   "outputs": [],
   "source": [
    "torch.save(mlp2.state_dict(),\"data/chap3/mlp2_parm.pkl\")\n",
    "# 导入保存的模型的参数\n",
    "mlp2parm=torch.load(\"data/chap3/mlp2_parm.pkl\")\n"
   ]
  }
 ],
 "metadata": {
  "interpreter": {
   "hash": "a04f5d07b0747026a8fbcdf50b9443318e69b1b8bd6247d88bfadb4789282972"
  },
  "kernelspec": {
   "display_name": "Python 3.8.8 ('base')",
   "language": "python",
   "name": "python3"
  },
  "language_info": {
   "codemirror_mode": {
    "name": "ipython",
    "version": 3
   },
   "file_extension": ".py",
   "mimetype": "text/x-python",
   "name": "python",
   "nbconvert_exporter": "python",
   "pygments_lexer": "ipython3",
   "version": "3.8.8"
  },
  "orig_nbformat": 4
 },
 "nbformat": 4,
 "nbformat_minor": 2
}
