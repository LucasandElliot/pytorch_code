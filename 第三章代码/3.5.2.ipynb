{
 "cells": [
  {
   "cell_type": "code",
   "execution_count": 6,
   "metadata": {},
   "outputs": [
    {
     "name": "stderr",
     "output_type": "stream",
     "text": [
      "<ipython-input-6-a9e41c9727bf>:8: UserWarning: nn.init.normal is now deprecated in favor of nn.init.normal_.\n",
      "  torch.nn.init.normal(conv1.weight,mean=0,std=1)\n"
     ]
    },
    {
     "data": {
      "image/png": "[encoded data removed]",
      "text/plain": [
       "<Figure size 576x432 with 1 Axes>"
      ]
     },
     "metadata": {
      "needs_background": "light"
     },
     "output_type": "display_data"
    }
   ],
   "source": [
    "import torch.nn as nn\n",
    "import torch\n",
    "import matplotlib.pyplot as plt\n",
    "# 针对一个才能的权重初始化的方法\n",
    "conv1=torch.nn.Conv2d(3,16,3)\n",
    "# 使用标准张态分布初始化权重\n",
    "torch.manual_seed(12) # 随机数初始化种子\n",
    "torch.nn.init.normal(conv1.weight,mean=0,std=1)\n",
    "# 使用直方图可视化conv1.weight的数据的分布情况\n",
    "plt.figure(figsize=(8,6))\n",
    "plt.hist(conv1.weight.data.numpy().reshape(-1,1),bins=30)\n",
    "plt.show()"
   ]
  },
  {
   "cell_type": "code",
   "execution_count": 7,
   "metadata": {},
   "outputs": [
    {
     "name": "stderr",
     "output_type": "stream",
     "text": [
      "<ipython-input-7-6291ef83d213>:2: UserWarning: nn.init.constant is now deprecated in favor of nn.init.constant_.\n",
      "  torch.nn.init.constant(conv1.bias,val=0.1)\n"
     ]
    },
    {
     "data": {
      "text/plain": [
       "Parameter containing:\n",
       "tensor([0.1000, 0.1000, 0.1000, 0.1000, 0.1000, 0.1000, 0.1000, 0.1000, 0.1000,\n",
       "        0.1000, 0.1000, 0.1000, 0.1000, 0.1000, 0.1000, 0.1000],\n",
       "       requires_grad=True)"
      ]
     },
     "execution_count": 7,
     "metadata": {},
     "output_type": "execute_result"
    }
   ],
   "source": [
    "# 使用指定值初始化偏置\n",
    "torch.nn.init.constant(conv1.bias,val=0.1)\n"
   ]
  },
  {
   "cell_type": "code",
   "execution_count": 11,
   "metadata": {},
   "outputs": [
    {
     "name": "stdout",
     "output_type": "stream",
     "text": [
      "TestNet(\n",
      "  (convl): Conv2d(3, 16, kernel_size=(3, 3), stride=(1, 1))\n",
      "  (hidden): Sequential(\n",
      "    (0): Linear(in_features=100, out_features=100, bias=True)\n",
      "    (1): ReLU()\n",
      "    (2): Linear(in_features=100, out_features=50, bias=True)\n",
      "    (3): ReLU()\n",
      "  )\n",
      "  (cla): Linear(in_features=50, out_features=10, bias=True)\n",
      ")\n"
     ]
    }
   ],
   "source": [
    "# 建立一个测试网络\n",
    "class TestNet(nn.Module):\n",
    "    def __init__(self):\n",
    "        super(TestNet,self).__init__()\n",
    "        self.convl=nn.Conv2d(3,16,3)\n",
    "        self.hidden=nn.Sequential(\n",
    "            nn.Linear(100,100),\n",
    "            nn.ReLU(),\n",
    "            nn.Linear(100,50),\n",
    "            nn.ReLU(),\n",
    "        )\n",
    "        self.cla=nn.Linear(50,10)\n",
    "    # 定义网络的前向传播路径\n",
    "    def forward(self,x):\n",
    "        x=self.convl(x)\n",
    "        x=x.view(x.shape[0],-1)\n",
    "        x=self.hidden(x)\n",
    "        output=self.cla(x)\n",
    "        return output\n",
    "# 输出我们的网络结构\n",
    "testnet=TestNet()\n",
    "print(testnet)"
   ]
  },
  {
   "cell_type": "code",
   "execution_count": 12,
   "metadata": {},
   "outputs": [],
   "source": [
    "# 定义为网络中的每一层进行权重初始化的函数\n",
    "def init_weights(m):\n",
    "    if type(m)==nn.Conv2d: # 如果为卷积层\n",
    "        torch.nn.init.normal(m.weight,mean=0,std=0.5)\n",
    "    # 如果为全连接层\n",
    "    if type(m)==nn.Linear:\n",
    "        torch.nn.init.uniform(m.weight,a=-0.1,b=0.1)\n",
    "        m.bias.data.fill_(0.01)\n"
   ]
  },
  {
   "cell_type": "code",
   "execution_count": 13,
   "metadata": {},
   "outputs": [
    {
     "name": "stderr",
     "output_type": "stream",
     "text": [
      "<ipython-input-12-b94bc964bf5a>:4: UserWarning: nn.init.normal is now deprecated in favor of nn.init.normal_.\n",
      "  torch.nn.init.normal(m.weight,mean=0,std=0.5)\n",
      "<ipython-input-12-b94bc964bf5a>:7: UserWarning: nn.init.uniform is now deprecated in favor of nn.init.uniform_.\n",
      "  torch.nn.init.uniform(m.weight,a=-0.1,b=0.1)\n"
     ]
    },
    {
     "data": {
      "text/plain": [
       "TestNet(\n",
       "  (convl): Conv2d(3, 16, kernel_size=(3, 3), stride=(1, 1))\n",
       "  (hidden): Sequential(\n",
       "    (0): Linear(in_features=100, out_features=100, bias=True)\n",
       "    (1): ReLU()\n",
       "    (2): Linear(in_features=100, out_features=50, bias=True)\n",
       "    (3): ReLU()\n",
       "  )\n",
       "  (cla): Linear(in_features=50, out_features=10, bias=True)\n",
       ")"
      ]
     },
     "execution_count": 13,
     "metadata": {},
     "output_type": "execute_result"
    }
   ],
   "source": [
    "# 使用网络的apply方法进行权重初始化\n",
    "torch.manual_seed(13) # 随机数种子\n",
    "testnet.apply(init_weights)"
   ]
  }
 ],
 "metadata": {
  "interpreter": {
   "hash": "a04f5d07b0747026a8fbcdf50b9443318e69b1b8bd6247d88bfadb4789282972"
  },
  "kernelspec": {
   "display_name": "Python 3.8.8 ('base')",
   "language": "python",
   "name": "python3"
  },
  "language_info": {
   "codemirror_mode": {
    "name": "ipython",
    "version": 3
   },
   "file_extension": ".py",
   "mimetype": "text/x-python",
   "name": "python",
   "nbconvert_exporter": "python",
   "pygments_lexer": "ipython3",
   "version": "3.8.8"
  },
  "orig_nbformat": 4
 },
 "nbformat": 4,
 "nbformat_minor": 2
}
