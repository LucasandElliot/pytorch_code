{
 "cells": [
  {
   "cell_type": "code",
   "execution_count": 1,
   "metadata": {},
   "outputs": [],
   "source": [
    "import torch\n",
    "import torch.nn as nn # 方便与对于网络中层的使用\n",
    "from torch.optim import SGD\n",
    "import torch.utils.data as Data # 进行数据的预处理\n",
    "from sklearn.datasets import load_boston # 导入数据\n",
    "from sklearn.preprocessing import StandardScaler # 数据标准化\n",
    "import pandas as pd\n",
    "import numpy as np\n",
    "import matplotlib.pyplot as plt\n"
   ]
  },
  {
   "cell_type": "code",
   "execution_count": 2,
   "metadata": {},
   "outputs": [
    {
     "name": "stdout",
     "output_type": "stream",
     "text": [
      "boston_X.shape: (506, 13)\n"
     ]
    },
    {
     "data": {
      "image/png": "[encoded data removed]",
      "text/plain": [
       "<Figure size 432x288 with 1 Axes>"
      ]
     },
     "metadata": {
      "needs_background": "light"
     },
     "output_type": "display_data"
    }
   ],
   "source": [
    "# 读取数据\n",
    "boston_X,boston_y=load_boston(return_X_y=True)\n",
    "print(\"boston_X.shape:\",boston_X.shape)\n",
    "plt.figure()\n",
    "plt.hist(boston_y,bins=20)\n",
    "plt.show()"
   ]
  },
  {
   "cell_type": "code",
   "execution_count": 8,
   "metadata": {},
   "outputs": [],
   "source": [
    "# 数据标准化处理\n",
    "ss=StandardScaler(with_mean=True,with_std=True)\n",
    "boston_Xs=ss.fit_transform(boston_X)\n",
    "# 将数据集预处理为可以使用pytorch进行批量训练的形式\n",
    "# 训练集x转化为张量\n",
    "train_xt=torch.from_numpy(boston_Xs.astype(np.float32))\n",
    "# 训练集y转化为张量\n",
    "trian_yt=torch.from_numpy(boston_y.astype(np.float32))\n",
    "# 将训练集转化为张量，使用TensorDataset将x和y整合到一起\n",
    "trian_data=Data.TensorDataset(train_xt,trian_yt)\n",
    "# 定义一个数据加载器，将训练数据集进行批量处理\n",
    "train_loader=Data.DataLoader(\n",
    "    dataset=trian_data, # 使用的数据集\n",
    "    batch_size=128,# 批处理的样本大小\n",
    "    shuffle=True,# 每次迭代之前打乱数据\n",
    "    num_workers=1# 使用两个进程\n",
    ")"
   ]
  }
 ],
 "metadata": {
  "interpreter": {
   "hash": "a04f5d07b0747026a8fbcdf50b9443318e69b1b8bd6247d88bfadb4789282972"
  },
  "kernelspec": {
   "display_name": "Python 3.8.8 ('base')",
   "language": "python",
   "name": "python3"
  },
  "language_info": {
   "codemirror_mode": {
    "name": "ipython",
    "version": 3
   },
   "file_extension": ".py",
   "mimetype": "text/x-python",
   "name": "python",
   "nbconvert_exporter": "python",
   "pygments_lexer": "ipython3",
   "version": "3.8.8"
  },
  "orig_nbformat": 4
 },
 "nbformat": 4,
 "nbformat_minor": 2
}
